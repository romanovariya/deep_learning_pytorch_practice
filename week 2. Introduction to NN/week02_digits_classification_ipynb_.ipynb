{
  "nbformat": 4,
  "nbformat_minor": 0,
  "metadata": {
    "colab": {
      "provenance": [],
      "collapsed_sections": []
    },
    "kernelspec": {
      "display_name": "Python 3",
      "language": "python",
      "name": "python3"
    },
    "language_info": {
      "codemirror_mode": {
        "name": "ipython",
        "version": 3
      },
      "file_extension": ".py",
      "mimetype": "text/x-python",
      "name": "python",
      "nbconvert_exporter": "python",
      "pygments_lexer": "ipython3",
      "version": "3.8.5"
    },
    "accelerator": "GPU",
    "gpuClass": "standard",
    "widgets": {
      "application/vnd.jupyter.widget-state+json": {
        "6d442e67d0994682b0ede0c352e102c4": {
          "model_module": "@jupyter-widgets/controls",
          "model_name": "HBoxModel",
          "model_module_version": "1.5.0",
          "state": {
            "_dom_classes": [],
            "_model_module": "@jupyter-widgets/controls",
            "_model_module_version": "1.5.0",
            "_model_name": "HBoxModel",
            "_view_count": null,
            "_view_module": "@jupyter-widgets/controls",
            "_view_module_version": "1.5.0",
            "_view_name": "HBoxView",
            "box_style": "",
            "children": [
              "IPY_MODEL_112d05bc8daf4b2f99d019ec5f592384",
              "IPY_MODEL_ad040637cffa44029b8fd33b34c5ff1f",
              "IPY_MODEL_7383f12e72ed4785ad312fb79a0ee529"
            ],
            "layout": "IPY_MODEL_b5c095246fd94dc3b98aede7c4ef0d69"
          }
        },
        "112d05bc8daf4b2f99d019ec5f592384": {
          "model_module": "@jupyter-widgets/controls",
          "model_name": "HTMLModel",
          "model_module_version": "1.5.0",
          "state": {
            "_dom_classes": [],
            "_model_module": "@jupyter-widgets/controls",
            "_model_module_version": "1.5.0",
            "_model_name": "HTMLModel",
            "_view_count": null,
            "_view_module": "@jupyter-widgets/controls",
            "_view_module_version": "1.5.0",
            "_view_name": "HTMLView",
            "description": "",
            "description_tooltip": null,
            "layout": "IPY_MODEL_57bfce05c7ed4d698b984a16450901d4",
            "placeholder": "​",
            "style": "IPY_MODEL_e4ad287a15b84b96948817b7789e657a",
            "value": "100%"
          }
        },
        "ad040637cffa44029b8fd33b34c5ff1f": {
          "model_module": "@jupyter-widgets/controls",
          "model_name": "FloatProgressModel",
          "model_module_version": "1.5.0",
          "state": {
            "_dom_classes": [],
            "_model_module": "@jupyter-widgets/controls",
            "_model_module_version": "1.5.0",
            "_model_name": "FloatProgressModel",
            "_view_count": null,
            "_view_module": "@jupyter-widgets/controls",
            "_view_module_version": "1.5.0",
            "_view_name": "ProgressView",
            "bar_style": "success",
            "description": "",
            "description_tooltip": null,
            "layout": "IPY_MODEL_3d52517552ff44398bf134908773122c",
            "max": 9912422,
            "min": 0,
            "orientation": "horizontal",
            "style": "IPY_MODEL_1e441b6f2a0a49ce8f5d23c9be1f9858",
            "value": 9912422
          }
        },
        "7383f12e72ed4785ad312fb79a0ee529": {
          "model_module": "@jupyter-widgets/controls",
          "model_name": "HTMLModel",
          "model_module_version": "1.5.0",
          "state": {
            "_dom_classes": [],
            "_model_module": "@jupyter-widgets/controls",
            "_model_module_version": "1.5.0",
            "_model_name": "HTMLModel",
            "_view_count": null,
            "_view_module": "@jupyter-widgets/controls",
            "_view_module_version": "1.5.0",
            "_view_name": "HTMLView",
            "description": "",
            "description_tooltip": null,
            "layout": "IPY_MODEL_19fd9a9d9838499abbc83e1d54b08e4f",
            "placeholder": "​",
            "style": "IPY_MODEL_45eee5e5beaa4bbeb12739a09a143f76",
            "value": " 9912422/9912422 [00:00&lt;00:00, 116766681.96it/s]"
          }
        },
        "b5c095246fd94dc3b98aede7c4ef0d69": {
          "model_module": "@jupyter-widgets/base",
          "model_name": "LayoutModel",
          "model_module_version": "1.2.0",
          "state": {
            "_model_module": "@jupyter-widgets/base",
            "_model_module_version": "1.2.0",
            "_model_name": "LayoutModel",
            "_view_count": null,
            "_view_module": "@jupyter-widgets/base",
            "_view_module_version": "1.2.0",
            "_view_name": "LayoutView",
            "align_content": null,
            "align_items": null,
            "align_self": null,
            "border": null,
            "bottom": null,
            "display": null,
            "flex": null,
            "flex_flow": null,
            "grid_area": null,
            "grid_auto_columns": null,
            "grid_auto_flow": null,
            "grid_auto_rows": null,
            "grid_column": null,
            "grid_gap": null,
            "grid_row": null,
            "grid_template_areas": null,
            "grid_template_columns": null,
            "grid_template_rows": null,
            "height": null,
            "justify_content": null,
            "justify_items": null,
            "left": null,
            "margin": null,
            "max_height": null,
            "max_width": null,
            "min_height": null,
            "min_width": null,
            "object_fit": null,
            "object_position": null,
            "order": null,
            "overflow": null,
            "overflow_x": null,
            "overflow_y": null,
            "padding": null,
            "right": null,
            "top": null,
            "visibility": null,
            "width": null
          }
        },
        "57bfce05c7ed4d698b984a16450901d4": {
          "model_module": "@jupyter-widgets/base",
          "model_name": "LayoutModel",
          "model_module_version": "1.2.0",
          "state": {
            "_model_module": "@jupyter-widgets/base",
            "_model_module_version": "1.2.0",
            "_model_name": "LayoutModel",
            "_view_count": null,
            "_view_module": "@jupyter-widgets/base",
            "_view_module_version": "1.2.0",
            "_view_name": "LayoutView",
            "align_content": null,
            "align_items": null,
            "align_self": null,
            "border": null,
            "bottom": null,
            "display": null,
            "flex": null,
            "flex_flow": null,
            "grid_area": null,
            "grid_auto_columns": null,
            "grid_auto_flow": null,
            "grid_auto_rows": null,
            "grid_column": null,
            "grid_gap": null,
            "grid_row": null,
            "grid_template_areas": null,
            "grid_template_columns": null,
            "grid_template_rows": null,
            "height": null,
            "justify_content": null,
            "justify_items": null,
            "left": null,
            "margin": null,
            "max_height": null,
            "max_width": null,
            "min_height": null,
            "min_width": null,
            "object_fit": null,
            "object_position": null,
            "order": null,
            "overflow": null,
            "overflow_x": null,
            "overflow_y": null,
            "padding": null,
            "right": null,
            "top": null,
            "visibility": null,
            "width": null
          }
        },
        "e4ad287a15b84b96948817b7789e657a": {
          "model_module": "@jupyter-widgets/controls",
          "model_name": "DescriptionStyleModel",
          "model_module_version": "1.5.0",
          "state": {
            "_model_module": "@jupyter-widgets/controls",
            "_model_module_version": "1.5.0",
            "_model_name": "DescriptionStyleModel",
            "_view_count": null,
            "_view_module": "@jupyter-widgets/base",
            "_view_module_version": "1.2.0",
            "_view_name": "StyleView",
            "description_width": ""
          }
        },
        "3d52517552ff44398bf134908773122c": {
          "model_module": "@jupyter-widgets/base",
          "model_name": "LayoutModel",
          "model_module_version": "1.2.0",
          "state": {
            "_model_module": "@jupyter-widgets/base",
            "_model_module_version": "1.2.0",
            "_model_name": "LayoutModel",
            "_view_count": null,
            "_view_module": "@jupyter-widgets/base",
            "_view_module_version": "1.2.0",
            "_view_name": "LayoutView",
            "align_content": null,
            "align_items": null,
            "align_self": null,
            "border": null,
            "bottom": null,
            "display": null,
            "flex": null,
            "flex_flow": null,
            "grid_area": null,
            "grid_auto_columns": null,
            "grid_auto_flow": null,
            "grid_auto_rows": null,
            "grid_column": null,
            "grid_gap": null,
            "grid_row": null,
            "grid_template_areas": null,
            "grid_template_columns": null,
            "grid_template_rows": null,
            "height": null,
            "justify_content": null,
            "justify_items": null,
            "left": null,
            "margin": null,
            "max_height": null,
            "max_width": null,
            "min_height": null,
            "min_width": null,
            "object_fit": null,
            "object_position": null,
            "order": null,
            "overflow": null,
            "overflow_x": null,
            "overflow_y": null,
            "padding": null,
            "right": null,
            "top": null,
            "visibility": null,
            "width": null
          }
        },
        "1e441b6f2a0a49ce8f5d23c9be1f9858": {
          "model_module": "@jupyter-widgets/controls",
          "model_name": "ProgressStyleModel",
          "model_module_version": "1.5.0",
          "state": {
            "_model_module": "@jupyter-widgets/controls",
            "_model_module_version": "1.5.0",
            "_model_name": "ProgressStyleModel",
            "_view_count": null,
            "_view_module": "@jupyter-widgets/base",
            "_view_module_version": "1.2.0",
            "_view_name": "StyleView",
            "bar_color": null,
            "description_width": ""
          }
        },
        "19fd9a9d9838499abbc83e1d54b08e4f": {
          "model_module": "@jupyter-widgets/base",
          "model_name": "LayoutModel",
          "model_module_version": "1.2.0",
          "state": {
            "_model_module": "@jupyter-widgets/base",
            "_model_module_version": "1.2.0",
            "_model_name": "LayoutModel",
            "_view_count": null,
            "_view_module": "@jupyter-widgets/base",
            "_view_module_version": "1.2.0",
            "_view_name": "LayoutView",
            "align_content": null,
            "align_items": null,
            "align_self": null,
            "border": null,
            "bottom": null,
            "display": null,
            "flex": null,
            "flex_flow": null,
            "grid_area": null,
            "grid_auto_columns": null,
            "grid_auto_flow": null,
            "grid_auto_rows": null,
            "grid_column": null,
            "grid_gap": null,
            "grid_row": null,
            "grid_template_areas": null,
            "grid_template_columns": null,
            "grid_template_rows": null,
            "height": null,
            "justify_content": null,
            "justify_items": null,
            "left": null,
            "margin": null,
            "max_height": null,
            "max_width": null,
            "min_height": null,
            "min_width": null,
            "object_fit": null,
            "object_position": null,
            "order": null,
            "overflow": null,
            "overflow_x": null,
            "overflow_y": null,
            "padding": null,
            "right": null,
            "top": null,
            "visibility": null,
            "width": null
          }
        },
        "45eee5e5beaa4bbeb12739a09a143f76": {
          "model_module": "@jupyter-widgets/controls",
          "model_name": "DescriptionStyleModel",
          "model_module_version": "1.5.0",
          "state": {
            "_model_module": "@jupyter-widgets/controls",
            "_model_module_version": "1.5.0",
            "_model_name": "DescriptionStyleModel",
            "_view_count": null,
            "_view_module": "@jupyter-widgets/base",
            "_view_module_version": "1.2.0",
            "_view_name": "StyleView",
            "description_width": ""
          }
        },
        "354eeb9d2f9d414ba68affbd2a22a5a4": {
          "model_module": "@jupyter-widgets/controls",
          "model_name": "HBoxModel",
          "model_module_version": "1.5.0",
          "state": {
            "_dom_classes": [],
            "_model_module": "@jupyter-widgets/controls",
            "_model_module_version": "1.5.0",
            "_model_name": "HBoxModel",
            "_view_count": null,
            "_view_module": "@jupyter-widgets/controls",
            "_view_module_version": "1.5.0",
            "_view_name": "HBoxView",
            "box_style": "",
            "children": [
              "IPY_MODEL_f4d5854e7903464eb08363dbb91e0256",
              "IPY_MODEL_447fe14dccde434fbf1a88606238dd73",
              "IPY_MODEL_0ec8ca8937a649ccb6c1894b9a0a1370"
            ],
            "layout": "IPY_MODEL_f523c1de59f441639abd48f11da2aa65"
          }
        },
        "f4d5854e7903464eb08363dbb91e0256": {
          "model_module": "@jupyter-widgets/controls",
          "model_name": "HTMLModel",
          "model_module_version": "1.5.0",
          "state": {
            "_dom_classes": [],
            "_model_module": "@jupyter-widgets/controls",
            "_model_module_version": "1.5.0",
            "_model_name": "HTMLModel",
            "_view_count": null,
            "_view_module": "@jupyter-widgets/controls",
            "_view_module_version": "1.5.0",
            "_view_name": "HTMLView",
            "description": "",
            "description_tooltip": null,
            "layout": "IPY_MODEL_92f6cf5882994a12b9648ceaba775d83",
            "placeholder": "​",
            "style": "IPY_MODEL_66768f14048b478fa3fa7e980d9d4f95",
            "value": "100%"
          }
        },
        "447fe14dccde434fbf1a88606238dd73": {
          "model_module": "@jupyter-widgets/controls",
          "model_name": "FloatProgressModel",
          "model_module_version": "1.5.0",
          "state": {
            "_dom_classes": [],
            "_model_module": "@jupyter-widgets/controls",
            "_model_module_version": "1.5.0",
            "_model_name": "FloatProgressModel",
            "_view_count": null,
            "_view_module": "@jupyter-widgets/controls",
            "_view_module_version": "1.5.0",
            "_view_name": "ProgressView",
            "bar_style": "success",
            "description": "",
            "description_tooltip": null,
            "layout": "IPY_MODEL_733ec77522454284bb5311eac3eded57",
            "max": 28881,
            "min": 0,
            "orientation": "horizontal",
            "style": "IPY_MODEL_d71b92ade90441d69ef65a05d9a329cc",
            "value": 28881
          }
        },
        "0ec8ca8937a649ccb6c1894b9a0a1370": {
          "model_module": "@jupyter-widgets/controls",
          "model_name": "HTMLModel",
          "model_module_version": "1.5.0",
          "state": {
            "_dom_classes": [],
            "_model_module": "@jupyter-widgets/controls",
            "_model_module_version": "1.5.0",
            "_model_name": "HTMLModel",
            "_view_count": null,
            "_view_module": "@jupyter-widgets/controls",
            "_view_module_version": "1.5.0",
            "_view_name": "HTMLView",
            "description": "",
            "description_tooltip": null,
            "layout": "IPY_MODEL_fbd210f50c594094b995f57a99bb7fd3",
            "placeholder": "​",
            "style": "IPY_MODEL_9a3a1d3bf0114a96bbd0c70b6c4234b1",
            "value": " 28881/28881 [00:00&lt;00:00, 875662.83it/s]"
          }
        },
        "f523c1de59f441639abd48f11da2aa65": {
          "model_module": "@jupyter-widgets/base",
          "model_name": "LayoutModel",
          "model_module_version": "1.2.0",
          "state": {
            "_model_module": "@jupyter-widgets/base",
            "_model_module_version": "1.2.0",
            "_model_name": "LayoutModel",
            "_view_count": null,
            "_view_module": "@jupyter-widgets/base",
            "_view_module_version": "1.2.0",
            "_view_name": "LayoutView",
            "align_content": null,
            "align_items": null,
            "align_self": null,
            "border": null,
            "bottom": null,
            "display": null,
            "flex": null,
            "flex_flow": null,
            "grid_area": null,
            "grid_auto_columns": null,
            "grid_auto_flow": null,
            "grid_auto_rows": null,
            "grid_column": null,
            "grid_gap": null,
            "grid_row": null,
            "grid_template_areas": null,
            "grid_template_columns": null,
            "grid_template_rows": null,
            "height": null,
            "justify_content": null,
            "justify_items": null,
            "left": null,
            "margin": null,
            "max_height": null,
            "max_width": null,
            "min_height": null,
            "min_width": null,
            "object_fit": null,
            "object_position": null,
            "order": null,
            "overflow": null,
            "overflow_x": null,
            "overflow_y": null,
            "padding": null,
            "right": null,
            "top": null,
            "visibility": null,
            "width": null
          }
        },
        "92f6cf5882994a12b9648ceaba775d83": {
          "model_module": "@jupyter-widgets/base",
          "model_name": "LayoutModel",
          "model_module_version": "1.2.0",
          "state": {
            "_model_module": "@jupyter-widgets/base",
            "_model_module_version": "1.2.0",
            "_model_name": "LayoutModel",
            "_view_count": null,
            "_view_module": "@jupyter-widgets/base",
            "_view_module_version": "1.2.0",
            "_view_name": "LayoutView",
            "align_content": null,
            "align_items": null,
            "align_self": null,
            "border": null,
            "bottom": null,
            "display": null,
            "flex": null,
            "flex_flow": null,
            "grid_area": null,
            "grid_auto_columns": null,
            "grid_auto_flow": null,
            "grid_auto_rows": null,
            "grid_column": null,
            "grid_gap": null,
            "grid_row": null,
            "grid_template_areas": null,
            "grid_template_columns": null,
            "grid_template_rows": null,
            "height": null,
            "justify_content": null,
            "justify_items": null,
            "left": null,
            "margin": null,
            "max_height": null,
            "max_width": null,
            "min_height": null,
            "min_width": null,
            "object_fit": null,
            "object_position": null,
            "order": null,
            "overflow": null,
            "overflow_x": null,
            "overflow_y": null,
            "padding": null,
            "right": null,
            "top": null,
            "visibility": null,
            "width": null
          }
        },
        "66768f14048b478fa3fa7e980d9d4f95": {
          "model_module": "@jupyter-widgets/controls",
          "model_name": "DescriptionStyleModel",
          "model_module_version": "1.5.0",
          "state": {
            "_model_module": "@jupyter-widgets/controls",
            "_model_module_version": "1.5.0",
            "_model_name": "DescriptionStyleModel",
            "_view_count": null,
            "_view_module": "@jupyter-widgets/base",
            "_view_module_version": "1.2.0",
            "_view_name": "StyleView",
            "description_width": ""
          }
        },
        "733ec77522454284bb5311eac3eded57": {
          "model_module": "@jupyter-widgets/base",
          "model_name": "LayoutModel",
          "model_module_version": "1.2.0",
          "state": {
            "_model_module": "@jupyter-widgets/base",
            "_model_module_version": "1.2.0",
            "_model_name": "LayoutModel",
            "_view_count": null,
            "_view_module": "@jupyter-widgets/base",
            "_view_module_version": "1.2.0",
            "_view_name": "LayoutView",
            "align_content": null,
            "align_items": null,
            "align_self": null,
            "border": null,
            "bottom": null,
            "display": null,
            "flex": null,
            "flex_flow": null,
            "grid_area": null,
            "grid_auto_columns": null,
            "grid_auto_flow": null,
            "grid_auto_rows": null,
            "grid_column": null,
            "grid_gap": null,
            "grid_row": null,
            "grid_template_areas": null,
            "grid_template_columns": null,
            "grid_template_rows": null,
            "height": null,
            "justify_content": null,
            "justify_items": null,
            "left": null,
            "margin": null,
            "max_height": null,
            "max_width": null,
            "min_height": null,
            "min_width": null,
            "object_fit": null,
            "object_position": null,
            "order": null,
            "overflow": null,
            "overflow_x": null,
            "overflow_y": null,
            "padding": null,
            "right": null,
            "top": null,
            "visibility": null,
            "width": null
          }
        },
        "d71b92ade90441d69ef65a05d9a329cc": {
          "model_module": "@jupyter-widgets/controls",
          "model_name": "ProgressStyleModel",
          "model_module_version": "1.5.0",
          "state": {
            "_model_module": "@jupyter-widgets/controls",
            "_model_module_version": "1.5.0",
            "_model_name": "ProgressStyleModel",
            "_view_count": null,
            "_view_module": "@jupyter-widgets/base",
            "_view_module_version": "1.2.0",
            "_view_name": "StyleView",
            "bar_color": null,
            "description_width": ""
          }
        },
        "fbd210f50c594094b995f57a99bb7fd3": {
          "model_module": "@jupyter-widgets/base",
          "model_name": "LayoutModel",
          "model_module_version": "1.2.0",
          "state": {
            "_model_module": "@jupyter-widgets/base",
            "_model_module_version": "1.2.0",
            "_model_name": "LayoutModel",
            "_view_count": null,
            "_view_module": "@jupyter-widgets/base",
            "_view_module_version": "1.2.0",
            "_view_name": "LayoutView",
            "align_content": null,
            "align_items": null,
            "align_self": null,
            "border": null,
            "bottom": null,
            "display": null,
            "flex": null,
            "flex_flow": null,
            "grid_area": null,
            "grid_auto_columns": null,
            "grid_auto_flow": null,
            "grid_auto_rows": null,
            "grid_column": null,
            "grid_gap": null,
            "grid_row": null,
            "grid_template_areas": null,
            "grid_template_columns": null,
            "grid_template_rows": null,
            "height": null,
            "justify_content": null,
            "justify_items": null,
            "left": null,
            "margin": null,
            "max_height": null,
            "max_width": null,
            "min_height": null,
            "min_width": null,
            "object_fit": null,
            "object_position": null,
            "order": null,
            "overflow": null,
            "overflow_x": null,
            "overflow_y": null,
            "padding": null,
            "right": null,
            "top": null,
            "visibility": null,
            "width": null
          }
        },
        "9a3a1d3bf0114a96bbd0c70b6c4234b1": {
          "model_module": "@jupyter-widgets/controls",
          "model_name": "DescriptionStyleModel",
          "model_module_version": "1.5.0",
          "state": {
            "_model_module": "@jupyter-widgets/controls",
            "_model_module_version": "1.5.0",
            "_model_name": "DescriptionStyleModel",
            "_view_count": null,
            "_view_module": "@jupyter-widgets/base",
            "_view_module_version": "1.2.0",
            "_view_name": "StyleView",
            "description_width": ""
          }
        },
        "046b9cb820f64f9bb0729994603102bb": {
          "model_module": "@jupyter-widgets/controls",
          "model_name": "HBoxModel",
          "model_module_version": "1.5.0",
          "state": {
            "_dom_classes": [],
            "_model_module": "@jupyter-widgets/controls",
            "_model_module_version": "1.5.0",
            "_model_name": "HBoxModel",
            "_view_count": null,
            "_view_module": "@jupyter-widgets/controls",
            "_view_module_version": "1.5.0",
            "_view_name": "HBoxView",
            "box_style": "",
            "children": [
              "IPY_MODEL_1585cd7b2f94498e8a0417f2399caaa3",
              "IPY_MODEL_291a09df16d8406e81d67181acda006a",
              "IPY_MODEL_d200661683cf47f8b2052bec181efc56"
            ],
            "layout": "IPY_MODEL_65392aa213494b27ab626336b011bf86"
          }
        },
        "1585cd7b2f94498e8a0417f2399caaa3": {
          "model_module": "@jupyter-widgets/controls",
          "model_name": "HTMLModel",
          "model_module_version": "1.5.0",
          "state": {
            "_dom_classes": [],
            "_model_module": "@jupyter-widgets/controls",
            "_model_module_version": "1.5.0",
            "_model_name": "HTMLModel",
            "_view_count": null,
            "_view_module": "@jupyter-widgets/controls",
            "_view_module_version": "1.5.0",
            "_view_name": "HTMLView",
            "description": "",
            "description_tooltip": null,
            "layout": "IPY_MODEL_d0f0646052b845d5b5ea2424cc6ce9e1",
            "placeholder": "​",
            "style": "IPY_MODEL_533db219839549939efb0af23229bf94",
            "value": "100%"
          }
        },
        "291a09df16d8406e81d67181acda006a": {
          "model_module": "@jupyter-widgets/controls",
          "model_name": "FloatProgressModel",
          "model_module_version": "1.5.0",
          "state": {
            "_dom_classes": [],
            "_model_module": "@jupyter-widgets/controls",
            "_model_module_version": "1.5.0",
            "_model_name": "FloatProgressModel",
            "_view_count": null,
            "_view_module": "@jupyter-widgets/controls",
            "_view_module_version": "1.5.0",
            "_view_name": "ProgressView",
            "bar_style": "success",
            "description": "",
            "description_tooltip": null,
            "layout": "IPY_MODEL_3d3ad11944ae4063984ecab2e71565f6",
            "max": 1648877,
            "min": 0,
            "orientation": "horizontal",
            "style": "IPY_MODEL_6e3f793e24b34c6ea5a61e99490153d5",
            "value": 1648877
          }
        },
        "d200661683cf47f8b2052bec181efc56": {
          "model_module": "@jupyter-widgets/controls",
          "model_name": "HTMLModel",
          "model_module_version": "1.5.0",
          "state": {
            "_dom_classes": [],
            "_model_module": "@jupyter-widgets/controls",
            "_model_module_version": "1.5.0",
            "_model_name": "HTMLModel",
            "_view_count": null,
            "_view_module": "@jupyter-widgets/controls",
            "_view_module_version": "1.5.0",
            "_view_name": "HTMLView",
            "description": "",
            "description_tooltip": null,
            "layout": "IPY_MODEL_e683da5fbbdb431c9bf70bf837ed6033",
            "placeholder": "​",
            "style": "IPY_MODEL_b5f76fb47e2f4353aa2fe152ceda3b11",
            "value": " 1648877/1648877 [00:00&lt;00:00, 27657812.76it/s]"
          }
        },
        "65392aa213494b27ab626336b011bf86": {
          "model_module": "@jupyter-widgets/base",
          "model_name": "LayoutModel",
          "model_module_version": "1.2.0",
          "state": {
            "_model_module": "@jupyter-widgets/base",
            "_model_module_version": "1.2.0",
            "_model_name": "LayoutModel",
            "_view_count": null,
            "_view_module": "@jupyter-widgets/base",
            "_view_module_version": "1.2.0",
            "_view_name": "LayoutView",
            "align_content": null,
            "align_items": null,
            "align_self": null,
            "border": null,
            "bottom": null,
            "display": null,
            "flex": null,
            "flex_flow": null,
            "grid_area": null,
            "grid_auto_columns": null,
            "grid_auto_flow": null,
            "grid_auto_rows": null,
            "grid_column": null,
            "grid_gap": null,
            "grid_row": null,
            "grid_template_areas": null,
            "grid_template_columns": null,
            "grid_template_rows": null,
            "height": null,
            "justify_content": null,
            "justify_items": null,
            "left": null,
            "margin": null,
            "max_height": null,
            "max_width": null,
            "min_height": null,
            "min_width": null,
            "object_fit": null,
            "object_position": null,
            "order": null,
            "overflow": null,
            "overflow_x": null,
            "overflow_y": null,
            "padding": null,
            "right": null,
            "top": null,
            "visibility": null,
            "width": null
          }
        },
        "d0f0646052b845d5b5ea2424cc6ce9e1": {
          "model_module": "@jupyter-widgets/base",
          "model_name": "LayoutModel",
          "model_module_version": "1.2.0",
          "state": {
            "_model_module": "@jupyter-widgets/base",
            "_model_module_version": "1.2.0",
            "_model_name": "LayoutModel",
            "_view_count": null,
            "_view_module": "@jupyter-widgets/base",
            "_view_module_version": "1.2.0",
            "_view_name": "LayoutView",
            "align_content": null,
            "align_items": null,
            "align_self": null,
            "border": null,
            "bottom": null,
            "display": null,
            "flex": null,
            "flex_flow": null,
            "grid_area": null,
            "grid_auto_columns": null,
            "grid_auto_flow": null,
            "grid_auto_rows": null,
            "grid_column": null,
            "grid_gap": null,
            "grid_row": null,
            "grid_template_areas": null,
            "grid_template_columns": null,
            "grid_template_rows": null,
            "height": null,
            "justify_content": null,
            "justify_items": null,
            "left": null,
            "margin": null,
            "max_height": null,
            "max_width": null,
            "min_height": null,
            "min_width": null,
            "object_fit": null,
            "object_position": null,
            "order": null,
            "overflow": null,
            "overflow_x": null,
            "overflow_y": null,
            "padding": null,
            "right": null,
            "top": null,
            "visibility": null,
            "width": null
          }
        },
        "533db219839549939efb0af23229bf94": {
          "model_module": "@jupyter-widgets/controls",
          "model_name": "DescriptionStyleModel",
          "model_module_version": "1.5.0",
          "state": {
            "_model_module": "@jupyter-widgets/controls",
            "_model_module_version": "1.5.0",
            "_model_name": "DescriptionStyleModel",
            "_view_count": null,
            "_view_module": "@jupyter-widgets/base",
            "_view_module_version": "1.2.0",
            "_view_name": "StyleView",
            "description_width": ""
          }
        },
        "3d3ad11944ae4063984ecab2e71565f6": {
          "model_module": "@jupyter-widgets/base",
          "model_name": "LayoutModel",
          "model_module_version": "1.2.0",
          "state": {
            "_model_module": "@jupyter-widgets/base",
            "_model_module_version": "1.2.0",
            "_model_name": "LayoutModel",
            "_view_count": null,
            "_view_module": "@jupyter-widgets/base",
            "_view_module_version": "1.2.0",
            "_view_name": "LayoutView",
            "align_content": null,
            "align_items": null,
            "align_self": null,
            "border": null,
            "bottom": null,
            "display": null,
            "flex": null,
            "flex_flow": null,
            "grid_area": null,
            "grid_auto_columns": null,
            "grid_auto_flow": null,
            "grid_auto_rows": null,
            "grid_column": null,
            "grid_gap": null,
            "grid_row": null,
            "grid_template_areas": null,
            "grid_template_columns": null,
            "grid_template_rows": null,
            "height": null,
            "justify_content": null,
            "justify_items": null,
            "left": null,
            "margin": null,
            "max_height": null,
            "max_width": null,
            "min_height": null,
            "min_width": null,
            "object_fit": null,
            "object_position": null,
            "order": null,
            "overflow": null,
            "overflow_x": null,
            "overflow_y": null,
            "padding": null,
            "right": null,
            "top": null,
            "visibility": null,
            "width": null
          }
        },
        "6e3f793e24b34c6ea5a61e99490153d5": {
          "model_module": "@jupyter-widgets/controls",
          "model_name": "ProgressStyleModel",
          "model_module_version": "1.5.0",
          "state": {
            "_model_module": "@jupyter-widgets/controls",
            "_model_module_version": "1.5.0",
            "_model_name": "ProgressStyleModel",
            "_view_count": null,
            "_view_module": "@jupyter-widgets/base",
            "_view_module_version": "1.2.0",
            "_view_name": "StyleView",
            "bar_color": null,
            "description_width": ""
          }
        },
        "e683da5fbbdb431c9bf70bf837ed6033": {
          "model_module": "@jupyter-widgets/base",
          "model_name": "LayoutModel",
          "model_module_version": "1.2.0",
          "state": {
            "_model_module": "@jupyter-widgets/base",
            "_model_module_version": "1.2.0",
            "_model_name": "LayoutModel",
            "_view_count": null,
            "_view_module": "@jupyter-widgets/base",
            "_view_module_version": "1.2.0",
            "_view_name": "LayoutView",
            "align_content": null,
            "align_items": null,
            "align_self": null,
            "border": null,
            "bottom": null,
            "display": null,
            "flex": null,
            "flex_flow": null,
            "grid_area": null,
            "grid_auto_columns": null,
            "grid_auto_flow": null,
            "grid_auto_rows": null,
            "grid_column": null,
            "grid_gap": null,
            "grid_row": null,
            "grid_template_areas": null,
            "grid_template_columns": null,
            "grid_template_rows": null,
            "height": null,
            "justify_content": null,
            "justify_items": null,
            "left": null,
            "margin": null,
            "max_height": null,
            "max_width": null,
            "min_height": null,
            "min_width": null,
            "object_fit": null,
            "object_position": null,
            "order": null,
            "overflow": null,
            "overflow_x": null,
            "overflow_y": null,
            "padding": null,
            "right": null,
            "top": null,
            "visibility": null,
            "width": null
          }
        },
        "b5f76fb47e2f4353aa2fe152ceda3b11": {
          "model_module": "@jupyter-widgets/controls",
          "model_name": "DescriptionStyleModel",
          "model_module_version": "1.5.0",
          "state": {
            "_model_module": "@jupyter-widgets/controls",
            "_model_module_version": "1.5.0",
            "_model_name": "DescriptionStyleModel",
            "_view_count": null,
            "_view_module": "@jupyter-widgets/base",
            "_view_module_version": "1.2.0",
            "_view_name": "StyleView",
            "description_width": ""
          }
        },
        "307b7738a1354d95a525b9ef504a2e80": {
          "model_module": "@jupyter-widgets/controls",
          "model_name": "HBoxModel",
          "model_module_version": "1.5.0",
          "state": {
            "_dom_classes": [],
            "_model_module": "@jupyter-widgets/controls",
            "_model_module_version": "1.5.0",
            "_model_name": "HBoxModel",
            "_view_count": null,
            "_view_module": "@jupyter-widgets/controls",
            "_view_module_version": "1.5.0",
            "_view_name": "HBoxView",
            "box_style": "",
            "children": [
              "IPY_MODEL_527d98761c5946aa8a58a03a93cc106c",
              "IPY_MODEL_5e92355e00c54102b2585f28c25ab808",
              "IPY_MODEL_46faf5a035d5405cbcf8da96959b15f6"
            ],
            "layout": "IPY_MODEL_1a7e2d0d470d4c3589f15d3b74e57931"
          }
        },
        "527d98761c5946aa8a58a03a93cc106c": {
          "model_module": "@jupyter-widgets/controls",
          "model_name": "HTMLModel",
          "model_module_version": "1.5.0",
          "state": {
            "_dom_classes": [],
            "_model_module": "@jupyter-widgets/controls",
            "_model_module_version": "1.5.0",
            "_model_name": "HTMLModel",
            "_view_count": null,
            "_view_module": "@jupyter-widgets/controls",
            "_view_module_version": "1.5.0",
            "_view_name": "HTMLView",
            "description": "",
            "description_tooltip": null,
            "layout": "IPY_MODEL_4b026932e8a44f8388d714d9b7d94f2e",
            "placeholder": "​",
            "style": "IPY_MODEL_0dfbc260c53a4906b8173b9db9ca9656",
            "value": "100%"
          }
        },
        "5e92355e00c54102b2585f28c25ab808": {
          "model_module": "@jupyter-widgets/controls",
          "model_name": "FloatProgressModel",
          "model_module_version": "1.5.0",
          "state": {
            "_dom_classes": [],
            "_model_module": "@jupyter-widgets/controls",
            "_model_module_version": "1.5.0",
            "_model_name": "FloatProgressModel",
            "_view_count": null,
            "_view_module": "@jupyter-widgets/controls",
            "_view_module_version": "1.5.0",
            "_view_name": "ProgressView",
            "bar_style": "success",
            "description": "",
            "description_tooltip": null,
            "layout": "IPY_MODEL_08132530da9f4d568acef451c4b3aa22",
            "max": 4542,
            "min": 0,
            "orientation": "horizontal",
            "style": "IPY_MODEL_e9656c7e395b4f05a9c6e1ef2bac37ec",
            "value": 4542
          }
        },
        "46faf5a035d5405cbcf8da96959b15f6": {
          "model_module": "@jupyter-widgets/controls",
          "model_name": "HTMLModel",
          "model_module_version": "1.5.0",
          "state": {
            "_dom_classes": [],
            "_model_module": "@jupyter-widgets/controls",
            "_model_module_version": "1.5.0",
            "_model_name": "HTMLModel",
            "_view_count": null,
            "_view_module": "@jupyter-widgets/controls",
            "_view_module_version": "1.5.0",
            "_view_name": "HTMLView",
            "description": "",
            "description_tooltip": null,
            "layout": "IPY_MODEL_4bf4c7e1a3ce402c8e821681cde71f4a",
            "placeholder": "​",
            "style": "IPY_MODEL_c8912f52b96f4aefb2345c2fc22f624b",
            "value": " 4542/4542 [00:00&lt;00:00, 169603.37it/s]"
          }
        },
        "1a7e2d0d470d4c3589f15d3b74e57931": {
          "model_module": "@jupyter-widgets/base",
          "model_name": "LayoutModel",
          "model_module_version": "1.2.0",
          "state": {
            "_model_module": "@jupyter-widgets/base",
            "_model_module_version": "1.2.0",
            "_model_name": "LayoutModel",
            "_view_count": null,
            "_view_module": "@jupyter-widgets/base",
            "_view_module_version": "1.2.0",
            "_view_name": "LayoutView",
            "align_content": null,
            "align_items": null,
            "align_self": null,
            "border": null,
            "bottom": null,
            "display": null,
            "flex": null,
            "flex_flow": null,
            "grid_area": null,
            "grid_auto_columns": null,
            "grid_auto_flow": null,
            "grid_auto_rows": null,
            "grid_column": null,
            "grid_gap": null,
            "grid_row": null,
            "grid_template_areas": null,
            "grid_template_columns": null,
            "grid_template_rows": null,
            "height": null,
            "justify_content": null,
            "justify_items": null,
            "left": null,
            "margin": null,
            "max_height": null,
            "max_width": null,
            "min_height": null,
            "min_width": null,
            "object_fit": null,
            "object_position": null,
            "order": null,
            "overflow": null,
            "overflow_x": null,
            "overflow_y": null,
            "padding": null,
            "right": null,
            "top": null,
            "visibility": null,
            "width": null
          }
        },
        "4b026932e8a44f8388d714d9b7d94f2e": {
          "model_module": "@jupyter-widgets/base",
          "model_name": "LayoutModel",
          "model_module_version": "1.2.0",
          "state": {
            "_model_module": "@jupyter-widgets/base",
            "_model_module_version": "1.2.0",
            "_model_name": "LayoutModel",
            "_view_count": null,
            "_view_module": "@jupyter-widgets/base",
            "_view_module_version": "1.2.0",
            "_view_name": "LayoutView",
            "align_content": null,
            "align_items": null,
            "align_self": null,
            "border": null,
            "bottom": null,
            "display": null,
            "flex": null,
            "flex_flow": null,
            "grid_area": null,
            "grid_auto_columns": null,
            "grid_auto_flow": null,
            "grid_auto_rows": null,
            "grid_column": null,
            "grid_gap": null,
            "grid_row": null,
            "grid_template_areas": null,
            "grid_template_columns": null,
            "grid_template_rows": null,
            "height": null,
            "justify_content": null,
            "justify_items": null,
            "left": null,
            "margin": null,
            "max_height": null,
            "max_width": null,
            "min_height": null,
            "min_width": null,
            "object_fit": null,
            "object_position": null,
            "order": null,
            "overflow": null,
            "overflow_x": null,
            "overflow_y": null,
            "padding": null,
            "right": null,
            "top": null,
            "visibility": null,
            "width": null
          }
        },
        "0dfbc260c53a4906b8173b9db9ca9656": {
          "model_module": "@jupyter-widgets/controls",
          "model_name": "DescriptionStyleModel",
          "model_module_version": "1.5.0",
          "state": {
            "_model_module": "@jupyter-widgets/controls",
            "_model_module_version": "1.5.0",
            "_model_name": "DescriptionStyleModel",
            "_view_count": null,
            "_view_module": "@jupyter-widgets/base",
            "_view_module_version": "1.2.0",
            "_view_name": "StyleView",
            "description_width": ""
          }
        },
        "08132530da9f4d568acef451c4b3aa22": {
          "model_module": "@jupyter-widgets/base",
          "model_name": "LayoutModel",
          "model_module_version": "1.2.0",
          "state": {
            "_model_module": "@jupyter-widgets/base",
            "_model_module_version": "1.2.0",
            "_model_name": "LayoutModel",
            "_view_count": null,
            "_view_module": "@jupyter-widgets/base",
            "_view_module_version": "1.2.0",
            "_view_name": "LayoutView",
            "align_content": null,
            "align_items": null,
            "align_self": null,
            "border": null,
            "bottom": null,
            "display": null,
            "flex": null,
            "flex_flow": null,
            "grid_area": null,
            "grid_auto_columns": null,
            "grid_auto_flow": null,
            "grid_auto_rows": null,
            "grid_column": null,
            "grid_gap": null,
            "grid_row": null,
            "grid_template_areas": null,
            "grid_template_columns": null,
            "grid_template_rows": null,
            "height": null,
            "justify_content": null,
            "justify_items": null,
            "left": null,
            "margin": null,
            "max_height": null,
            "max_width": null,
            "min_height": null,
            "min_width": null,
            "object_fit": null,
            "object_position": null,
            "order": null,
            "overflow": null,
            "overflow_x": null,
            "overflow_y": null,
            "padding": null,
            "right": null,
            "top": null,
            "visibility": null,
            "width": null
          }
        },
        "e9656c7e395b4f05a9c6e1ef2bac37ec": {
          "model_module": "@jupyter-widgets/controls",
          "model_name": "ProgressStyleModel",
          "model_module_version": "1.5.0",
          "state": {
            "_model_module": "@jupyter-widgets/controls",
            "_model_module_version": "1.5.0",
            "_model_name": "ProgressStyleModel",
            "_view_count": null,
            "_view_module": "@jupyter-widgets/base",
            "_view_module_version": "1.2.0",
            "_view_name": "StyleView",
            "bar_color": null,
            "description_width": ""
          }
        },
        "4bf4c7e1a3ce402c8e821681cde71f4a": {
          "model_module": "@jupyter-widgets/base",
          "model_name": "LayoutModel",
          "model_module_version": "1.2.0",
          "state": {
            "_model_module": "@jupyter-widgets/base",
            "_model_module_version": "1.2.0",
            "_model_name": "LayoutModel",
            "_view_count": null,
            "_view_module": "@jupyter-widgets/base",
            "_view_module_version": "1.2.0",
            "_view_name": "LayoutView",
            "align_content": null,
            "align_items": null,
            "align_self": null,
            "border": null,
            "bottom": null,
            "display": null,
            "flex": null,
            "flex_flow": null,
            "grid_area": null,
            "grid_auto_columns": null,
            "grid_auto_flow": null,
            "grid_auto_rows": null,
            "grid_column": null,
            "grid_gap": null,
            "grid_row": null,
            "grid_template_areas": null,
            "grid_template_columns": null,
            "grid_template_rows": null,
            "height": null,
            "justify_content": null,
            "justify_items": null,
            "left": null,
            "margin": null,
            "max_height": null,
            "max_width": null,
            "min_height": null,
            "min_width": null,
            "object_fit": null,
            "object_position": null,
            "order": null,
            "overflow": null,
            "overflow_x": null,
            "overflow_y": null,
            "padding": null,
            "right": null,
            "top": null,
            "visibility": null,
            "width": null
          }
        },
        "c8912f52b96f4aefb2345c2fc22f624b": {
          "model_module": "@jupyter-widgets/controls",
          "model_name": "DescriptionStyleModel",
          "model_module_version": "1.5.0",
          "state": {
            "_model_module": "@jupyter-widgets/controls",
            "_model_module_version": "1.5.0",
            "_model_name": "DescriptionStyleModel",
            "_view_count": null,
            "_view_module": "@jupyter-widgets/base",
            "_view_module_version": "1.2.0",
            "_view_name": "StyleView",
            "description_width": ""
          }
        }
      }
    }
  },
  "cells": [
    {
      "cell_type": "markdown",
      "metadata": {
        "id": "iz75Onm1BmVZ"
      },
      "source": [
        "# MNIST digits classification with PyTorch\n",
        "\n",
        "In this programming assignment you will implement your first neural network and train it to classify handwritten digits."
      ]
    },
    {
      "cell_type": "code",
      "metadata": {
        "id": "CR5ons9CxI26",
        "colab": {
          "base_uri": "https://localhost:8080/"
        },
        "outputId": "38f7396f-459d-4b9e-9625-ac0f287aa0fb"
      },
      "source": [
        "%%bash\n",
        "\n",
        "shred -u setup_colab.py\n",
        "\n",
        "wget https://raw.githubusercontent.com/hse-aml/intro-to-dl-pytorch/main/utils/setup_colab.py -O setup_colab.py"
      ],
      "execution_count": null,
      "outputs": [
        {
          "output_type": "stream",
          "name": "stderr",
          "text": [
            "shred: setup_colab.py: failed to open for writing: No such file or directory\n",
            "--2022-11-11 23:23:37--  https://raw.githubusercontent.com/hse-aml/intro-to-dl-pytorch/main/utils/setup_colab.py\n",
            "Resolving raw.githubusercontent.com (raw.githubusercontent.com)... 185.199.108.133, 185.199.109.133, 185.199.110.133, ...\n",
            "Connecting to raw.githubusercontent.com (raw.githubusercontent.com)|185.199.108.133|:443... connected.\n",
            "HTTP request sent, awaiting response... 200 OK\n",
            "Length: 1649 (1.6K) [text/plain]\n",
            "Saving to: ‘setup_colab.py’\n",
            "\n",
            "     0K .                                                     100% 14.7M=0s\n",
            "\n",
            "2022-11-11 23:23:38 (14.7 MB/s) - ‘setup_colab.py’ saved [1649/1649]\n",
            "\n"
          ]
        }
      ]
    },
    {
      "cell_type": "code",
      "metadata": {
        "id": "BzrfY5t_xI27"
      },
      "source": [
        "import setup_colab\n",
        "\n",
        "setup_colab.setup_week02()"
      ],
      "execution_count": null,
      "outputs": []
    },
    {
      "cell_type": "code",
      "metadata": {
        "id": "M75gw2yqBmVl"
      },
      "source": [
        "import numpy as np\n",
        "\n",
        "%matplotlib inline\n",
        "import matplotlib.pyplot as plt\n",
        "\n",
        "import tqdm\n",
        "import itertools\n",
        "import collections\n",
        "from IPython import display\n",
        "\n",
        "import torch\n",
        "from torch import nn\n",
        "from torch import optim\n",
        "from torch.utils.data import DataLoader\n",
        "\n",
        "from torchvision.datasets import MNIST\n",
        "from torchvision.transforms import ToTensor\n",
        "from torchvision.utils import make_grid"
      ],
      "execution_count": null,
      "outputs": []
    },
    {
      "cell_type": "code",
      "metadata": {
        "id": "OjtpMRyiHdbt"
      },
      "source": [
        "#auxiliary stuff\n",
        "class AverageMeter:\n",
        "    \n",
        "    def __init__(self):\n",
        "        self.reset()\n",
        "\n",
        "    def reset(self):\n",
        "        self.val = 0\n",
        "        self.avg = 0\n",
        "        self.sum = 0\n",
        "        self.count = 0\n",
        "\n",
        "    def update(self, val, n=1):\n",
        "        self.val = val\n",
        "        self.sum += val * n\n",
        "        self.count += n\n",
        "        self.avg = self.sum / self.count"
      ],
      "execution_count": null,
      "outputs": []
    },
    {
      "cell_type": "markdown",
      "metadata": {
        "id": "LFrkxLQRBmVm"
      },
      "source": [
        "### Fill in your Coursera token and email\n",
        "To successfully submit your answers to our grader, please fill in your Coursera submission token and email."
      ]
    },
    {
      "cell_type": "code",
      "metadata": {
        "id": "Yobu6DjTBmVn"
      },
      "source": [
        "import grading\n",
        "\n",
        "grader = grading.Grader(\n",
        "    assignment_key=\"jNcGh-dHRvuN45xP616Dyw\",\n",
        "    all_parts=[\"zGwHg\", \"5Ww9B\"]\n",
        ")"
      ],
      "execution_count": null,
      "outputs": []
    },
    {
      "cell_type": "code",
      "metadata": {
        "id": "I9Q5SMbUBmVn"
      },
      "source": [
        "# token expires every 30 min\n",
        "COURSERA_TOKEN = \"### YOUR TOKEN HERE ###\"\n",
        "COURSERA_EMAIL = \"### YOUR EMAIL HERE ###\""
      ],
      "execution_count": null,
      "outputs": []
    },
    {
      "cell_type": "markdown",
      "metadata": {
        "id": "SRIiXmfFBmVn"
      },
      "source": [
        "## MNIST dataset\n",
        "\n",
        "In this task we will work with MNIST dataset which contains 60000 28x28 images of handwritten digits from 0 to 9. \n",
        "\n",
        "For the data processing we'll use `torchvision` library. It is very simple and easy to use library for computer vision & deep learning. For a deep dive into the library you can check out the githab page: https://github.com/pytorch/vision\n",
        "\n",
        "Firstly, we set up datasets and dataloaders:"
      ]
    },
    {
      "cell_type": "code",
      "metadata": {
        "id": "q-7Ut2_iBmVo",
        "colab": {
          "base_uri": "https://localhost:8080/",
          "height": 423,
          "referenced_widgets": [
            "6d442e67d0994682b0ede0c352e102c4",
            "112d05bc8daf4b2f99d019ec5f592384",
            "ad040637cffa44029b8fd33b34c5ff1f",
            "7383f12e72ed4785ad312fb79a0ee529",
            "b5c095246fd94dc3b98aede7c4ef0d69",
            "57bfce05c7ed4d698b984a16450901d4",
            "e4ad287a15b84b96948817b7789e657a",
            "3d52517552ff44398bf134908773122c",
            "1e441b6f2a0a49ce8f5d23c9be1f9858",
            "19fd9a9d9838499abbc83e1d54b08e4f",
            "45eee5e5beaa4bbeb12739a09a143f76",
            "354eeb9d2f9d414ba68affbd2a22a5a4",
            "f4d5854e7903464eb08363dbb91e0256",
            "447fe14dccde434fbf1a88606238dd73",
            "0ec8ca8937a649ccb6c1894b9a0a1370",
            "f523c1de59f441639abd48f11da2aa65",
            "92f6cf5882994a12b9648ceaba775d83",
            "66768f14048b478fa3fa7e980d9d4f95",
            "733ec77522454284bb5311eac3eded57",
            "d71b92ade90441d69ef65a05d9a329cc",
            "fbd210f50c594094b995f57a99bb7fd3",
            "9a3a1d3bf0114a96bbd0c70b6c4234b1",
            "046b9cb820f64f9bb0729994603102bb",
            "1585cd7b2f94498e8a0417f2399caaa3",
            "291a09df16d8406e81d67181acda006a",
            "d200661683cf47f8b2052bec181efc56",
            "65392aa213494b27ab626336b011bf86",
            "d0f0646052b845d5b5ea2424cc6ce9e1",
            "533db219839549939efb0af23229bf94",
            "3d3ad11944ae4063984ecab2e71565f6",
            "6e3f793e24b34c6ea5a61e99490153d5",
            "e683da5fbbdb431c9bf70bf837ed6033",
            "b5f76fb47e2f4353aa2fe152ceda3b11",
            "307b7738a1354d95a525b9ef504a2e80",
            "527d98761c5946aa8a58a03a93cc106c",
            "5e92355e00c54102b2585f28c25ab808",
            "46faf5a035d5405cbcf8da96959b15f6",
            "1a7e2d0d470d4c3589f15d3b74e57931",
            "4b026932e8a44f8388d714d9b7d94f2e",
            "0dfbc260c53a4906b8173b9db9ca9656",
            "08132530da9f4d568acef451c4b3aa22",
            "e9656c7e395b4f05a9c6e1ef2bac37ec",
            "4bf4c7e1a3ce402c8e821681cde71f4a",
            "c8912f52b96f4aefb2345c2fc22f624b"
          ]
        },
        "outputId": "ad0fd529-ab79-4a1e-c62a-387d23826a57"
      },
      "source": [
        "# use it to conver from PIL to torch.Tensor\n",
        "image_transform = ToTensor()\n",
        "\n",
        "train_dataset = MNIST(root='./', train=True, download=True, transform=image_transform)\n",
        "test_dataset = MNIST(root='./', train=False, download=True, transform=image_transform)"
      ],
      "execution_count": null,
      "outputs": [
        {
          "output_type": "stream",
          "name": "stdout",
          "text": [
            "Downloading http://yann.lecun.com/exdb/mnist/train-images-idx3-ubyte.gz\n",
            "Downloading http://yann.lecun.com/exdb/mnist/train-images-idx3-ubyte.gz to ./MNIST/raw/train-images-idx3-ubyte.gz\n"
          ]
        },
        {
          "output_type": "display_data",
          "data": {
            "text/plain": [
              "  0%|          | 0/9912422 [00:00<?, ?it/s]"
            ],
            "application/vnd.jupyter.widget-view+json": {
              "version_major": 2,
              "version_minor": 0,
              "model_id": "6d442e67d0994682b0ede0c352e102c4"
            }
          },
          "metadata": {}
        },
        {
          "output_type": "stream",
          "name": "stdout",
          "text": [
            "Extracting ./MNIST/raw/train-images-idx3-ubyte.gz to ./MNIST/raw\n",
            "\n",
            "Downloading http://yann.lecun.com/exdb/mnist/train-labels-idx1-ubyte.gz\n",
            "Downloading http://yann.lecun.com/exdb/mnist/train-labels-idx1-ubyte.gz to ./MNIST/raw/train-labels-idx1-ubyte.gz\n"
          ]
        },
        {
          "output_type": "display_data",
          "data": {
            "text/plain": [
              "  0%|          | 0/28881 [00:00<?, ?it/s]"
            ],
            "application/vnd.jupyter.widget-view+json": {
              "version_major": 2,
              "version_minor": 0,
              "model_id": "354eeb9d2f9d414ba68affbd2a22a5a4"
            }
          },
          "metadata": {}
        },
        {
          "output_type": "stream",
          "name": "stdout",
          "text": [
            "Extracting ./MNIST/raw/train-labels-idx1-ubyte.gz to ./MNIST/raw\n",
            "\n",
            "Downloading http://yann.lecun.com/exdb/mnist/t10k-images-idx3-ubyte.gz\n",
            "Downloading http://yann.lecun.com/exdb/mnist/t10k-images-idx3-ubyte.gz to ./MNIST/raw/t10k-images-idx3-ubyte.gz\n"
          ]
        },
        {
          "output_type": "display_data",
          "data": {
            "text/plain": [
              "  0%|          | 0/1648877 [00:00<?, ?it/s]"
            ],
            "application/vnd.jupyter.widget-view+json": {
              "version_major": 2,
              "version_minor": 0,
              "model_id": "046b9cb820f64f9bb0729994603102bb"
            }
          },
          "metadata": {}
        },
        {
          "output_type": "stream",
          "name": "stdout",
          "text": [
            "Extracting ./MNIST/raw/t10k-images-idx3-ubyte.gz to ./MNIST/raw\n",
            "\n",
            "Downloading http://yann.lecun.com/exdb/mnist/t10k-labels-idx1-ubyte.gz\n",
            "Downloading http://yann.lecun.com/exdb/mnist/t10k-labels-idx1-ubyte.gz to ./MNIST/raw/t10k-labels-idx1-ubyte.gz\n"
          ]
        },
        {
          "output_type": "display_data",
          "data": {
            "text/plain": [
              "  0%|          | 0/4542 [00:00<?, ?it/s]"
            ],
            "application/vnd.jupyter.widget-view+json": {
              "version_major": 2,
              "version_minor": 0,
              "model_id": "307b7738a1354d95a525b9ef504a2e80"
            }
          },
          "metadata": {}
        },
        {
          "output_type": "stream",
          "name": "stdout",
          "text": [
            "Extracting ./MNIST/raw/t10k-labels-idx1-ubyte.gz to ./MNIST/raw\n",
            "\n"
          ]
        }
      ]
    },
    {
      "cell_type": "code",
      "metadata": {
        "id": "-uuRj-5nBmVp"
      },
      "source": [
        "BATCH_SIZE = 32\n",
        "\n",
        "train_dataloader = DataLoader(\n",
        "    train_dataset,\n",
        "    batch_size=BATCH_SIZE,\n",
        "    shuffle=True,\n",
        ")\n",
        "\n",
        "test_dataloader = DataLoader(\n",
        "    test_dataset,\n",
        "    batch_size=BATCH_SIZE,\n",
        ")"
      ],
      "execution_count": null,
      "outputs": []
    },
    {
      "cell_type": "markdown",
      "metadata": {
        "id": "_zQK0y3OBmVp"
      },
      "source": [
        "Let's look at a batch of images:"
      ]
    },
    {
      "cell_type": "code",
      "metadata": {
        "id": "Ndo1muoOBmVp",
        "colab": {
          "base_uri": "https://localhost:8080/",
          "height": 628
        },
        "outputId": "8ccef6e8-72da-4c29-be9f-12e4d2d7c962"
      },
      "source": [
        "example_batch = list(itertools.islice(train_dataloader, 1))[0]\n",
        "images, labels = example_batch\n",
        "\n",
        "# make a grid of images\n",
        "grid_images = make_grid(images, 8).permute(1, 2, 0)\n",
        "\n",
        "print(\"Labels of images: \", labels.view(-1, 8).tolist())\n",
        "\n",
        "plt.figure(figsize=(20, 10))\n",
        "plt.imshow(make_grid(images, 8).permute(1, 2, 0))"
      ],
      "execution_count": null,
      "outputs": [
        {
          "output_type": "stream",
          "name": "stdout",
          "text": [
            "Labels of images:  [[5, 1, 7, 3, 2, 1, 2, 2], [6, 0, 5, 0, 4, 5, 7, 3], [5, 0, 4, 6, 7, 5, 0, 8], [3, 2, 3, 1, 7, 6, 2, 6]]\n"
          ]
        },
        {
          "output_type": "execute_result",
          "data": {
            "text/plain": [
              "<matplotlib.image.AxesImage at 0x7ff7664f1390>"
            ]
          },
          "metadata": {},
          "execution_count": 9
        },
        {
          "output_type": "display_data",
          "data": {
            "text/plain": [
              "<Figure size 1440x720 with 1 Axes>"
            ],
            "image/png": "[encoded data removed]"
          },
          "metadata": {
            "needs_background": "light"
          }
        }
      ]
    },
    {
      "cell_type": "markdown",
      "metadata": {
        "id": "IUoHQGAnBmVq"
      },
      "source": [
        "The task is to train a model that will be able to take an image as an input and predict the class label for it (from 0 to 9) as an output.\n",
        "\n",
        "As a main metric we will use accuracy:"
      ]
    },
    {
      "cell_type": "code",
      "metadata": {
        "id": "rn8vmPkfBmVr"
      },
      "source": [
        "def calculate_accuracy(prediction, target):\n",
        "    # Note that prediction.shape == target.shape == [B, ]\n",
        "    \n",
        "    matching = (prediction == target).float()\n",
        "    return matching.mean()"
      ],
      "execution_count": null,
      "outputs": []
    },
    {
      "cell_type": "markdown",
      "metadata": {
        "id": "pUqclU3HBmVr"
      },
      "source": [
        "## Linear Model\n",
        "\n",
        "Let's start with a linear model and implement it as a neural network in PyTorch. \n",
        "\n",
        "Linear model takes a batch of $B$ images as an input, applies a linear transformation to them and outputs logits. For each image $x$ it returns a vector of logits $z$:\n",
        "$$z = x \\cdot W + b $$\n",
        "\n",
        "Here x.shape = [1, 28 * 28], z.shape = [1, 10].\n",
        "\n",
        "Then, we can make the prediction $\\hat{y}$ for $x$ by taking the class with the maximum logit or obtain probabilities $p$ for all classes by applying softmax function to vector of logits:\n",
        "$$\\hat{y} = \\arg\\max_k z_k \\quad p_k = \\frac{e^{z_k}}{\\sum_{i=0}^{9}{e^{z_i}}} \\quad k = 0..9$$\n"
      ]
    },
    {
      "cell_type": "code",
      "metadata": {
        "id": "cr-sj3X9BmVr"
      },
      "source": [
        "# Any neural network in PyTorch is a class with trainable (i.e. requires_grad=True) parameters.\n",
        "# For more detailed tutorial look at https://pytorch.org/tutorials/beginner/nn_tutorial.html\n",
        "\n",
        "class LinearModel(nn.Module):  # inheritance from nn.Module is required\n",
        "    \n",
        "    def __init__(self, input_dim: int, output_dim: int):\n",
        "        super().__init__()  # don't forget to init subclass\n",
        "        \n",
        "        # initialize weight and bias\n",
        "        # NOTE that using of nn.Parameter is required\n",
        "        # Don't use just torch.Tensor\n",
        "        self.weight = nn.Parameter(torch.randn(output_dim, input_dim))\n",
        "        self.bias = nn.Parameter(torch.zeros(output_dim))\n",
        "        \n",
        "        # initialize weight correctly\n",
        "        self.reset_parameters()\n",
        "    \n",
        "    def reset_parameters(self):\n",
        "        nn.init.kaiming_normal_(self.weight)\n",
        "    \n",
        "    def forward(self, input: torch.Tensor):\n",
        "        # We expect input.shape == [B, 1, 28, 28] and need to output logits.shape = [B,10]\n",
        "        logits = torch.Tensor(input.shape[0],10)\n",
        "        input = input.squeeze()\n",
        "        ### YOUR SOLUTION ###\n",
        "        res = []\n",
        "        for img in input.squeeze(): \n",
        "          logit = img.flatten() @ self.weight.T + self.bias\n",
        "          res.append(logit)\n",
        "\n",
        "        logits = torch.stack(res,0)\n",
        "        return logits"
      ],
      "execution_count": null,
      "outputs": []
    },
    {
      "cell_type": "code",
      "metadata": {
        "id": "UNZ_jPKixqhs"
      },
      "source": [
        "INPUT_DIM = 28 * 28\n",
        "OUTPUT_DIM = 10  # num classes\n",
        "\n",
        "linear_model = LinearModel(INPUT_DIM, OUTPUT_DIM)"
      ],
      "execution_count": null,
      "outputs": []
    },
    {
      "cell_type": "code",
      "metadata": {
        "id": "kefMlVIMyCzn",
        "colab": {
          "base_uri": "https://localhost:8080/"
        },
        "outputId": "a4aeac87-5d0e-4279-9510-8c8dbfac7993"
      },
      "source": [
        "# validate shapes\n",
        "\n",
        "print(linear_model.forward(example_batch[0]).shape)\n",
        "print(BATCH_SIZE, 10)\n",
        "\n",
        "assert linear_model.weight.shape == (OUTPUT_DIM, INPUT_DIM)\n",
        "assert linear_model.bias.shape == (OUTPUT_DIM, )\n",
        "assert linear_model.forward(example_batch[0]).shape == (BATCH_SIZE, 10)"
      ],
      "execution_count": null,
      "outputs": [
        {
          "output_type": "stream",
          "name": "stdout",
          "text": [
            "torch.Size([32, 10])\n",
            "32 10\n"
          ]
        }
      ]
    },
    {
      "cell_type": "code",
      "source": [],
      "metadata": {
        "id": "E5-ZWHJY-lzv"
      },
      "execution_count": null,
      "outputs": []
    },
    {
      "cell_type": "markdown",
      "metadata": {
        "id": "88KjRwzwyQQr"
      },
      "source": [
        "To train the model we will need a loss and an optimizer. \n",
        "\n",
        "We will use a cross-entropy loss, for one object it looks as follows:\n",
        "$$\\text{cross-entropy}(y, p) = -\\sum_{k=0}^{9}{\\log(p_k)[y = k]}$$ \n",
        "\n",
        "where $y$ is a true label, $p_k$ is a predicted probability for class $k$, and  \n",
        "$$\n",
        "[x]=\\begin{cases}\n",
        "       1, \\quad \\text{if $x$ is true} \\\\\n",
        "       0, \\quad \\text{otherwise}\n",
        "    \\end{cases}\n",
        "$$\n",
        "\n",
        "Cross-entropy minimization pushes $p_k$ close to 1 when $y = k$, which is what we want.\n",
        "\n",
        "CrossEntropyLoss criterion in PyTorch combines softmax and loss calculation."
      ]
    },
    {
      "cell_type": "code",
      "metadata": {
        "id": "tSYCvwVRBmVs"
      },
      "source": [
        "criterion = nn.CrossEntropyLoss()\n",
        "optimizer = optim.SGD(linear_model.parameters(), lr=1e-2, momentum=0.9, nesterov=True)"
      ],
      "execution_count": null,
      "outputs": []
    },
    {
      "cell_type": "markdown",
      "metadata": {
        "id": "NtvIcXmRBmVu"
      },
      "source": [
        "Write training and testing loops"
      ]
    },
    {
      "cell_type": "code",
      "source": [
        "! nvidia-smi"
      ],
      "metadata": {
        "colab": {
          "base_uri": "https://localhost:8080/"
        },
        "id": "EbRs3Rt7khuQ",
        "outputId": "522b375e-dc43-49d9-90b8-318a128baec6"
      },
      "execution_count": null,
      "outputs": [
        {
          "output_type": "stream",
          "name": "stdout",
          "text": [
            "Fri Nov 11 23:27:16 2022       \n",
            "+-----------------------------------------------------------------------------+\n",
            "| NVIDIA-SMI 460.32.03    Driver Version: 460.32.03    CUDA Version: 11.2     |\n",
            "|-------------------------------+----------------------+----------------------+\n",
            "| GPU  Name        Persistence-M| Bus-Id        Disp.A | Volatile Uncorr. ECC |\n",
            "| Fan  Temp  Perf  Pwr:Usage/Cap|         Memory-Usage | GPU-Util  Compute M. |\n",
            "|                               |                      |               MIG M. |\n",
            "|===============================+======================+======================|\n",
            "|   0  Tesla T4            Off  | 00000000:00:04.0 Off |                    0 |\n",
            "| N/A   45C    P8    11W /  70W |      0MiB / 15109MiB |      0%      Default |\n",
            "|                               |                      |                  N/A |\n",
            "+-------------------------------+----------------------+----------------------+\n",
            "                                                                               \n",
            "+-----------------------------------------------------------------------------+\n",
            "| Processes:                                                                  |\n",
            "|  GPU   GI   CI        PID   Type   Process name                  GPU Memory |\n",
            "|        ID   ID                                                   Usage      |\n",
            "|=============================================================================|\n",
            "|  No running processes found                                                 |\n",
            "+-----------------------------------------------------------------------------+\n"
          ]
        }
      ]
    },
    {
      "cell_type": "code",
      "metadata": {
        "id": "9x8uy-8dBmVu",
        "colab": {
          "base_uri": "https://localhost:8080/",
          "height": 444
        },
        "outputId": "762c95e7-a4cc-4c74-ea46-24b9772758d5"
      },
      "source": [
        "NUM_EPOCH = 10\n",
        "DEVICE = torch.device(\"cuda:0\")  # you can change to `cuda:0`\n",
        "HISTORY = collections.defaultdict(list)\n",
        "\n",
        "linear_model.to(DEVICE)\n",
        "\n",
        "for epoch in range(NUM_EPOCH):\n",
        "    # AverageMeter will accumulate average of some metric\n",
        "    # Procceed to `utils.py` to see implementation\n",
        "    train_loss_meter = AverageMeter()\n",
        "    train_accuracy_meter = AverageMeter()\n",
        "    test_loss_meter = AverageMeter()\n",
        "    test_accuracy_meter = AverageMeter()\n",
        "    \n",
        "    # training loop\n",
        "    for train_batch in train_dataloader:\n",
        "        \n",
        "        # unpack batch and move to specific device (for example, GPU or TPU)\n",
        "        images, labels = train_batch\n",
        "        images = images.to(DEVICE)\n",
        "        labels = labels.to(DEVICE)\n",
        "        \n",
        "        ### YOUR SOLUTION ###\n",
        "        # do forward pass\n",
        "        logits = linear_model(images)\n",
        "        prediction = logits.argmax(dim=-1)\n",
        "        # calculate loss (CrossEntropy)\n",
        "        loss = criterion(logits, labels)\n",
        "        # zero out the previous gradients of our model parameters\n",
        "        optimizer.zero_grad()\n",
        "        # calculate new gradients\n",
        "        loss.backward()\n",
        "        # # do optimization step\n",
        "        optimizer.step()\n",
        "\n",
        "\n",
        "        # calculate current average loss and accuracy\n",
        "        train_loss_meter.update(loss.item())\n",
        "        train_accuracy_meter.update(\n",
        "            calculate_accuracy(\n",
        "                prediction.detach(),\n",
        "                labels\n",
        "            ).item()\n",
        "        )\n",
        "        \n",
        "    # save average train loss and accuracy\n",
        "    HISTORY['train_loss'].append(train_loss_meter.avg)\n",
        "    HISTORY['train_accuracy'].append(train_accuracy_meter.avg)\n",
        "        \n",
        "    # testing loop\n",
        "    for test_batch in test_dataloader:\n",
        "        images, labels = test_batch\n",
        "        images = images.to(DEVICE)\n",
        "        labels = labels.to(DEVICE)\n",
        "        \n",
        "        # аdd `with torch.no_grad()' to avoid computing gradients of weights\n",
        "        with torch.no_grad():\n",
        "            # do everything like we did in training loop\n",
        "            logits = linear_model(images)\n",
        "            prediction = logits.argmax(dim=-1)\n",
        "            loss = criterion(logits, labels)\n",
        "        \n",
        "        test_loss_meter.update(loss.item())\n",
        "        test_accuracy_meter.update(\n",
        "            calculate_accuracy(\n",
        "                prediction,\n",
        "                labels\n",
        "            ).item()\n",
        "        )\n",
        "    \n",
        "    # save average test accuracy loss and accuracy\n",
        "    HISTORY['test_loss'].append(test_loss_meter.avg)\n",
        "    HISTORY['test_accuracy'].append(test_accuracy_meter.avg)\n",
        "    \n",
        "    # visualize all together\n",
        "    display.clear_output()\n",
        "    fig, axes = plt.subplots(1, 2, figsize=(20, 7))\n",
        "    axes[0].set_title('Loss (Cross Entropy)')\n",
        "    axes[0].plot(HISTORY['train_loss'], label='Train Loss')\n",
        "    axes[0].plot(HISTORY['test_loss'], label='Test Loss')\n",
        "    axes[0].grid()\n",
        "    axes[0].legend(fontsize=20)\n",
        "    \n",
        "    axes[1].set_title('Accuracy')\n",
        "    axes[1].plot(HISTORY['train_accuracy'], label='Train Accuracy')\n",
        "    axes[1].plot(HISTORY['test_accuracy'], label='Test Accuracy')\n",
        "    axes[1].grid()\n",
        "    axes[1].legend(fontsize=20)\n",
        "    \n",
        "    plt.show()"
      ],
      "execution_count": null,
      "outputs": [
        {
          "output_type": "display_data",
          "data": {
            "text/plain": [
              "<Figure size 1440x504 with 2 Axes>"
            ],
            "image/png": "[encoded data removed]"
          },
          "metadata": {
            "needs_background": "light"
          }
        }
      ]
    },
    {
      "cell_type": "code",
      "metadata": {
        "id": "tVK59LTcBmVw"
      },
      "source": [
        "assert HISTORY['test_accuracy'][-1] > 0.92"
      ],
      "execution_count": null,
      "outputs": []
    },
    {
      "cell_type": "code",
      "metadata": {
        "id": "vS9LhPeMxI3B",
        "colab": {
          "base_uri": "https://localhost:8080/"
        },
        "outputId": "00ec1b10-3b7a-4f6c-ea20-387271c301d9"
      },
      "source": [
        "HISTORY['test_accuracy'][-1]\n",
        "# ans_part1 = HISTORY['test_accuracy'][-1]\n"
      ],
      "execution_count": null,
      "outputs": [
        {
          "output_type": "execute_result",
          "data": {
            "text/plain": [
              "0.9231230031948882"
            ]
          },
          "metadata": {},
          "execution_count": 18
        }
      ]
    },
    {
      "cell_type": "markdown",
      "metadata": {
        "id": "AhNvJjljBmVx"
      },
      "source": [
        "## MLP with hidden layers\n",
        "\n",
        "Previously we've coded a fully-connected linear layer with matrix multiplication by hand. But usually people code only very specific layers by hand, all standard layers are already implemented in PyTorch. The analog of our LinearModel in PyTorch is nn.Linear\n",
        "\n",
        "Now define an MLP with 2 hidden layers. \n",
        "- Do not forget to use nonlinearities between linear layers, for example, nn.ReLU\n",
        "- nn.Sequential help you to combine several layers into one model "
      ]
    },
    {
      "cell_type": "code",
      "metadata": {
        "id": "AwlSa-JDBmVy"
      },
      "source": [
        "INPUT_DIM = 28 * 28\n",
        "OUTPUT_DIM = 10  # num classes\n",
        "# HINT\n",
        "# Use nn.Sequential, nn.Linear and nn.ReLU\n",
        "\n",
        "      \n",
        "nn_model = nn.Sequential(\n",
        "    nn.Flatten(),\n",
        "    nn.Linear(INPUT_DIM, 100),\n",
        "    nn.ReLU(inplace=True),\n",
        "    nn.Linear(100, 100),\n",
        "    nn.ReLU(inplace=True),\n",
        "    nn.Linear(100, OUTPUT_DIM),\n",
        "\n",
        ")\n",
        "\n",
        "nn_model.type(torch.FloatTensor)\n",
        "nn_model.to(DEVICE)\n",
        "### YOUR SOLUTION ###\n",
        "\n",
        "criterion = nn.CrossEntropyLoss()\n",
        "optimizer = optim.SGD(nn_model.parameters(), lr=1e-2, momentum=0.9, nesterov=True)"
      ],
      "execution_count": null,
      "outputs": []
    },
    {
      "cell_type": "markdown",
      "metadata": {
        "id": "grSmgqzJBmVy"
      },
      "source": [
        "Use the code from above to train the model. You're aiming for ~0.97 test accuracy here."
      ]
    },
    {
      "cell_type": "code",
      "metadata": {
        "id": "MKEDLGhwBmVy",
        "scrolled": false,
        "colab": {
          "base_uri": "https://localhost:8080/",
          "height": 444
        },
        "outputId": "26194cee-3dae-43f9-c0a7-bc5ebc4de82f"
      },
      "source": [
        "HISTORY = collections.defaultdict(list)\n",
        "\n",
        "### YOUR SOLUTION ###\n",
        "for epoch in range(NUM_EPOCH):\n",
        "    # AverageMeter will accumulate average of some metric\n",
        "    # Procceed to `utils.py` to see implementation\n",
        "    train_loss_meter = AverageMeter()\n",
        "    train_accuracy_meter = AverageMeter()\n",
        "    test_loss_meter = AverageMeter()\n",
        "    test_accuracy_meter = AverageMeter()\n",
        "    \n",
        "    # training loop\n",
        "    for train_batch in train_dataloader:\n",
        "        \n",
        "        # unpack batch and move to specific device (for example, GPU or TPU)\n",
        "        images, labels = train_batch\n",
        "        images = images.to(DEVICE)\n",
        "        labels = labels.to(DEVICE)\n",
        "        \n",
        "        ### YOUR SOLUTION ###\n",
        "        # do forward pass\n",
        "        outputs = nn_model(images)\n",
        "        _, prediction = torch.max(outputs.data, 1)\n",
        "        loss = criterion(outputs,labels)\n",
        "\n",
        "        # calculate loss (CrossEntropy)\n",
        "        # zero out the previous gradients of our model parameters\n",
        "        optimizer.zero_grad()\n",
        "        # calculate new gradients\n",
        "        loss.backward()\n",
        "        # # do optimization step\n",
        "        optimizer.step()\n",
        "\n",
        "\n",
        "        # calculate current average loss and accuracy\n",
        "        train_loss_meter.update(loss.item())\n",
        "        train_accuracy_meter.update(\n",
        "            calculate_accuracy(\n",
        "                prediction.detach(),\n",
        "                labels\n",
        "            ).item()\n",
        "        )\n",
        "        \n",
        "    # save average train loss and accuracy\n",
        "    HISTORY['train_loss'].append(train_loss_meter.avg)\n",
        "    HISTORY['train_accuracy'].append(train_accuracy_meter.avg)\n",
        "        \n",
        "    # testing loop\n",
        "    for test_batch in test_dataloader:\n",
        "        images, labels = test_batch\n",
        "        images = images.to(DEVICE)\n",
        "        labels = labels.to(DEVICE)\n",
        "        \n",
        "        # аdd `with torch.no_grad()' to avoid computing gradients of weights\n",
        "        with torch.no_grad():\n",
        "            # do everything like we did in training loop\n",
        "            logits = nn_model(images)\n",
        "            prediction = logits.argmax(dim=-1)\n",
        "            loss = criterion(logits, labels)\n",
        "        \n",
        "        test_loss_meter.update(loss.item())\n",
        "        test_accuracy_meter.update(\n",
        "            calculate_accuracy(\n",
        "                prediction,\n",
        "                labels\n",
        "            ).item()\n",
        "        )\n",
        "    \n",
        "    # save average test accuracy loss and accuracy\n",
        "    HISTORY['test_loss'].append(test_loss_meter.avg)\n",
        "    HISTORY['test_accuracy'].append(test_accuracy_meter.avg)\n",
        "    \n",
        "    # visualize all together\n",
        "    display.clear_output()\n",
        "    fig, axes = plt.subplots(1, 2, figsize=(20, 7))\n",
        "    axes[0].set_title('Loss (Cross Entropy)')\n",
        "    axes[0].plot(HISTORY['train_loss'], label='Train Loss')\n",
        "    axes[0].plot(HISTORY['test_loss'], label='Test Loss')\n",
        "    axes[0].grid()\n",
        "    axes[0].legend(fontsize=20)\n",
        "    \n",
        "    axes[1].set_title('Accuracy')\n",
        "    axes[1].plot(HISTORY['train_accuracy'], label='Train Accuracy')\n",
        "    axes[1].plot(HISTORY['test_accuracy'], label='Test Accuracy')\n",
        "    axes[1].grid()\n",
        "    axes[1].legend(fontsize=20)\n",
        "    \n",
        "    plt.show()"
      ],
      "execution_count": null,
      "outputs": [
        {
          "output_type": "display_data",
          "data": {
            "text/plain": [
              "<Figure size 1440x504 with 2 Axes>"
            ],
            "image/png": "[encoded data removed]"
          },
          "metadata": {
            "needs_background": "light"
          }
        }
      ]
    },
    {
      "cell_type": "code",
      "metadata": {
        "id": "iO9wWf-0BmVz",
        "colab": {
          "base_uri": "https://localhost:8080/"
        },
        "outputId": "5d3ceff8-6fae-4a1a-b1aa-da9e421ffd65"
      },
      "source": [
        "# ans_part2 = HISTORY['test_accuracy'][-1]\n",
        "HISTORY['test_accuracy'][-1]"
      ],
      "execution_count": null,
      "outputs": [
        {
          "output_type": "execute_result",
          "data": {
            "text/plain": [
              "0.9784345047923323"
            ]
          },
          "metadata": {},
          "execution_count": 46
        }
      ]
    },
    {
      "cell_type": "code",
      "metadata": {
        "id": "fm-wxw3yxI3D"
      },
      "source": [
        "## GRADED PART, DO NOT CHANGE!\n",
        "grader.set_answer(\"5Ww9B\", ans_part2)"
      ],
      "execution_count": null,
      "outputs": []
    },
    {
      "cell_type": "code",
      "metadata": {
        "id": "6uaveQVWxI3D"
      },
      "source": [
        "grader.submit(COURSERA_EMAIL, COURSERA_TOKEN)"
      ],
      "execution_count": null,
      "outputs": []
    }
  ]
}